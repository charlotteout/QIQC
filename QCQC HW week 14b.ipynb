{
 "cells": [
  {
   "cell_type": "code",
   "execution_count": 5,
   "metadata": {
    "collapsed": true
   },
   "outputs": [],
   "source": [
    "import cirq\n",
    "\n"
   ]
  },
  {
   "cell_type": "code",
   "execution_count": 6,
   "metadata": {
    "collapsed": false
   },
   "outputs": [
    {
     "name": "stdout",
     "output_type": "stream",
     "text": [
      "(0, 0): ───X───@───────\n",
      "               │\n",
      "(1, 0): ───X───@───────\n",
      "               │\n",
      "(2, 0): ───────X───X───\n"
     ]
    }
   ],
   "source": [
    "#Qtest - Problem 4: OR circuit on two qubits\n",
    "\n",
    "cq1 = cirq.GridQubit(0,0)\n",
    "cq2 = cirq.GridQubit(1,0)\n",
    "tq = cirq.GridQubit(2,0)\n",
    "\n",
    "Xcq1 = cirq.X(cq1)\n",
    "Xcq2 = cirq.X(cq2)\n",
    "tofandtq = cirq.TOFFOLI(cq1,cq2,tq)\n",
    "Xtq = cirq.X(tq)\n",
    "\n",
    "moment0 = cirq.Moment([Xcq1, Xcq2])\n",
    "moment1 = cirq.Moment([tofandtq])\n",
    "moment2 = cirq.Moment([Xtq])\n",
    "circuit = cirq.Circuit((moment0,moment1,moment2))\n",
    "\n",
    "print(circuit)"
   ]
  },
  {
   "cell_type": "code",
   "execution_count": 7,
   "metadata": {
    "collapsed": false
   },
   "outputs": [
    {
     "name": "stdout",
     "output_type": "stream",
     "text": [
      "(0, 0): ───X───@───────────\n",
      "               │\n",
      "(1, 0): ───X───@───@───────\n",
      "               │   │\n",
      "(2, 0): ───────X───@───────\n",
      "                   │\n",
      "(3, 0): ───X───────┼───────\n",
      "                   │\n",
      "(4, 0): ───────────X───X───\n"
     ]
    }
   ],
   "source": [
    "#Qtest - Problem 5: OR circuit on three qubits\n",
    "\n",
    "cq1 = cirq.GridQubit(0,0)\n",
    "cq2 = cirq.GridQubit(1,0)\n",
    "auxiliary_qubit = cirq.GridQubit(2,0)\n",
    "cq3 = cirq.GridQubit(3,0)\n",
    "tq = cirq.GridQubit(4,0)\n",
    "\n",
    "Xcq1 = cirq.X(cq1)\n",
    "Xcq2 = cirq.X(cq2)\n",
    "Xcq3 = cirq.X(cq3)\n",
    "tofandtq1 = cirq.TOFFOLI(cq1,cq2,auxiliary_qubit)\n",
    "tofandtq2 = cirq.TOFFOLI(cq2, auxiliary_qubit, tq)\n",
    "Xtq = cirq.X(tq)\n",
    "\n",
    "moment0 = cirq.Moment([Xcq1, Xcq2, Xcq3])\n",
    "moment1 = cirq.Moment([tofandtq1])\n",
    "moment2 = cirq.Moment([tofandtq2])\n",
    "moment3 = cirq.Moment([Xtq])\n",
    "circuit = cirq.Circuit((moment0,moment1,moment2,moment3))\n",
    "\n",
    "print(circuit)"
   ]
  },
  {
   "cell_type": "code",
   "execution_count": 8,
   "metadata": {
    "collapsed": false
   },
   "outputs": [
    {
     "name": "stdout",
     "output_type": "stream",
     "text": [
      "(0, 0): ───@───X───@───\n",
      "           │   │   │\n",
      "(1, 0): ───X───@───X───\n"
     ]
    }
   ],
   "source": [
    "#Qtest - Exercise 4: Implementing SWAP\n",
    "\n",
    "qubit1 = cirq.GridQubit(0,0)\n",
    "qubit2 = cirq.GridQubit(1,0)\n",
    "\n",
    "CNOT12 = cirq.CNOT(qubit1,qubit2)\n",
    "CNOT21 = cirq.CNOT(qubit2,qubit1)\n",
    "\n",
    "moment0 = cirq.Moment([CNOT12])\n",
    "moment1 = cirq.Moment([CNOT21])\n",
    "moment2 = cirq.Moment([CNOT12])\n",
    "\n",
    "circuit = cirq.Circuit((moment0,moment1,moment2))\n",
    "\n",
    "print(circuit)"
   ]
  },
  {
   "cell_type": "code",
   "execution_count": null,
   "metadata": {
    "collapsed": true
   },
   "outputs": [],
   "source": []
  },
  {
   "cell_type": "code",
   "execution_count": null,
   "metadata": {
    "collapsed": true
   },
   "outputs": [],
   "source": []
  }
 ],
 "metadata": {
  "kernelspec": {
   "display_name": "Python 3",
   "language": "python",
   "name": "python3"
  },
  "language_info": {
   "codemirror_mode": {
    "name": "ipython",
    "version": 3
   },
   "file_extension": ".py",
   "mimetype": "text/x-python",
   "name": "python",
   "nbconvert_exporter": "python",
   "pygments_lexer": "ipython3",
   "version": "3.6.3"
  }
 },
 "nbformat": 4,
 "nbformat_minor": 2
}
